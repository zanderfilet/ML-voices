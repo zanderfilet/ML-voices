{
 "cells": [
  {
   "cell_type": "code",
   "execution_count": 28,
   "metadata": {},
   "outputs": [],
   "source": [
    "import os\n",
    "import torch\n",
    "from torch.utils.data import Dataset\n",
    "import torchaudio\n",
    "import torchaudio.transforms\n",
    "import IPython\n",
    "from IPython.display import Audio"
   ]
  },
  {
   "cell_type": "code",
   "execution_count": 13,
   "metadata": {},
   "outputs": [
    {
     "data": {
      "text/plain": [
       "['4_theo_16.wav',\n",
       " '3_yweweler_18.wav',\n",
       " '3_yweweler_10.wav',\n",
       " '3_nicolas_45.wav',\n",
       " '6_yweweler_43.wav']"
      ]
     },
     "execution_count": 13,
     "metadata": {},
     "output_type": "execute_result"
    }
   ],
   "source": [
    "all_files = os.listdir(f'../datasets/audioMinst')\n",
    "all_files[:5]"
   ]
  },
  {
   "cell_type": "code",
   "execution_count": 42,
   "metadata": {},
   "outputs": [
    {
     "data": {
      "text/plain": [
       "'4_theo_16'"
      ]
     },
     "execution_count": 42,
     "metadata": {},
     "output_type": "execute_result"
    }
   ],
   "source": [
    "all_files[0][:-4]"
   ]
  },
  {
   "cell_type": "code",
   "execution_count": 45,
   "metadata": {},
   "outputs": [],
   "source": [
    "#for file in all_files:\n",
    "    #new_file = torchaudio.load('../datasets/audioMinst/' + file)\n",
    "    #new_file.gain(1.4)\n",
    "   # torchaudio.save('../datasets/jenniferMnist/' + file, new_file, 8000)\n",
    "\n",
    "for file in all_files:\n",
    "    og_file, rate = torchaudio.load('../datasets/audioMinst/' + file, normalize=True)\n",
    "    make_louder = torchaudio.transforms.Vol(gain=4.0, gain_type=\"amplitude\")\n",
    "    make_softer = torchaudio.transforms.Vol(gain=0.25, gain_type=\"amplitude\")\n",
    "    louder_file = make_louder(og_file)\n",
    "    softer_file = make_softer(og_file)\n",
    "    torchaudio.save('../datasets/jenniferMnist/' + file[:-4] + '_loudervol.wav', louder_file, 8000)\n",
    "    torchaudio.save('../datasets/jenniferMnist/' + file[:-4] + '_softervol.wav', softer_file, 8000)\n",
    "    # IPython.display.Audio(filename='../datasets/jenniferMnist/4_theo_16.wav', rate=8000)"
   ]
  },
  {
   "cell_type": "code",
   "execution_count": 49,
   "metadata": {},
   "outputs": [],
   "source": [
    "for file in all_files:\n",
    "    og_file, rate = torchaudio.load('../datasets/audioMinst/' + file, normalize=True)\n",
    "    make_fried = torchaudio.transforms.Vol(gain=1000.0, gain_type=\"amplitude\")\n",
    "    fried_file = make_fried(og_file)\n",
    "    torchaudio.save('../datasets/jenniferMnist/' + file[:-4] + '_friedvol.wav', fried_file, 8000)\n",
    "# IPython.display.Audio(filename='../datasets/jenniferMnist/'+ all_files[0][:-4] + '_friedvol.wav', rate=8000)"
   ]
  }
 ],
 "metadata": {
  "kernelspec": {
   "display_name": "venv",
   "language": "python",
   "name": "venv"
  },
  "language_info": {
   "codemirror_mode": {
    "name": "ipython",
    "version": 3
   },
   "file_extension": ".py",
   "mimetype": "text/x-python",
   "name": "python",
   "nbconvert_exporter": "python",
   "pygments_lexer": "ipython3",
   "version": "3.9.16"
  }
 },
 "nbformat": 4,
 "nbformat_minor": 4
}
