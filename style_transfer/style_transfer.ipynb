{
 "cells": [
  {
   "cell_type": "code",
   "execution_count": 1,
   "metadata": {},
   "outputs": [
    {
     "ename": "ModuleNotFoundError",
     "evalue": "No module named 'torch'",
     "output_type": "error",
     "traceback": [
      "\u001b[0;31m---------------------------------------------------------------------------\u001b[0m",
      "\u001b[0;31mModuleNotFoundError\u001b[0m                       Traceback (most recent call last)",
      "\u001b[0;32m<ipython-input-1-c026268559cb>\u001b[0m in \u001b[0;36m<module>\u001b[0;34m\u001b[0m\n\u001b[0;32m----> 1\u001b[0;31m \u001b[0;32mimport\u001b[0m \u001b[0mtorch\u001b[0m\u001b[0;34m\u001b[0m\u001b[0;34m\u001b[0m\u001b[0m\n\u001b[0m\u001b[1;32m      2\u001b[0m \u001b[0;32mimport\u001b[0m \u001b[0mtorch\u001b[0m\u001b[0;34m.\u001b[0m\u001b[0mnn\u001b[0m \u001b[0;32mas\u001b[0m \u001b[0mnn\u001b[0m\u001b[0;34m\u001b[0m\u001b[0;34m\u001b[0m\u001b[0m\n\u001b[1;32m      3\u001b[0m \u001b[0;32mimport\u001b[0m \u001b[0mtorchvision\u001b[0m\u001b[0;34m.\u001b[0m\u001b[0mmodels\u001b[0m \u001b[0;32mas\u001b[0m \u001b[0mmodels\u001b[0m\u001b[0;34m\u001b[0m\u001b[0;34m\u001b[0m\u001b[0m\n\u001b[1;32m      4\u001b[0m \u001b[0;32mimport\u001b[0m \u001b[0mtorchaudio\u001b[0m\u001b[0;34m\u001b[0m\u001b[0;34m\u001b[0m\u001b[0m\n\u001b[1;32m      5\u001b[0m \u001b[0;32mimport\u001b[0m \u001b[0mIPython\u001b[0m\u001b[0;34m\u001b[0m\u001b[0;34m\u001b[0m\u001b[0m\n",
      "\u001b[0;31mModuleNotFoundError\u001b[0m: No module named 'torch'"
     ]
    }
   ],
   "source": [
    "import torch\n",
    "import torch.nn as nn\n",
    "import torchvision.models as models\n",
    "import torchaudio\n",
    "import IPython\n",
    "import sys\n",
    "sys.path.append(\"..\")\n",
    "from dataset_generation.randomDataset import RandomDataset\n",
    "\n",
    "from utils.cnn import CNNNetwork\n",
    "from utils import LABELS\n",
    "from utils.lstm import LSTMNetwork"
   ]
  },
  {
   "cell_type": "code",
   "execution_count": null,
   "metadata": {},
   "outputs": [],
   "source": [
    "## LOAD IN MODELS HERE\n",
    "sparams = \"7, input_shape=(1, 80, 313), layers=[16, 32, 64, 128], stride=(1,2), kernel=(5, 5), nfft=512, nmel=80\"\n",
    "style_model = CNNNetwork(7, input_shape=(1, 80, 313), layers=[16, 32, 64, 128], stride=(1,2), kernel=(5, 5))\n",
    "style_model(torch.rand(64, 1, 60, 313))\n",
    "style_model.load_state_dict(torch.load(sparams))\n",
    "vgg = models.vgg11(pretrained=True)\n",
    "content_model = torch.nn.Sequential(*list(vgg.children())[:-4])\n",
    "style_model.eval()\n",
    "content_model.eval()\n",
    "\n",
    "melSpec = torchaudio.transforms.MelSpectrogram(sample_rate=16000, n_fft=512, n_mels=80)\n",
    "src = '../dataset_generation/denoised_speeches'\n",
    "dataSet = RandomDataset(src, 16000, 10000, melSpec, 6, 5)\n",
    "\n",
    "## Initialize our input\n",
    "spec = dataSet[4][0]\n",
    "spec.requires_grad = True\n",
    "\n",
    "spec_original = spec.clone()\n",
    "spec_original = torch.cat((spec_original, spec_original, spec_original)).unsqueeze(0)\n",
    "with torch.no_grad():\n",
    "    original_content = content_model(spec_original).squeeze()\n",
    "\n",
    "voice = \"Amos\"\n",
    "target_style = torch.zeros(1, 7)\n",
    "target_style[0][LABELS.index(voice)] = 1\n",
    "\n",
    "\n",
    "\n",
    "c_loss_fn = torch.nn.MSELoss()\n",
    "s_loss_fn = torch.nn.CrossEntropyLoss()\n",
    "optim = torch.optim.Adam([spec], lr=0.01)\n",
    "num_iterations = 1000\n",
    "for i in range(num_iterations):\n",
    "    # Zero the gradients\n",
    "    optim.zero_grad()\n",
    "\n",
    "    # Get the content output from the ResNet model\n",
    "    inp = torch.cat((spec, spec, spec)).unsqueeze(0)\n",
    "    with torch.no_grad():\n",
    "        content_output = content_model(inp).squeeze()\n",
    "\n",
    "    # Calculate the content loss\n",
    "    with torch.no_grad():\n",
    "        content_loss = c_loss_fn(content_output, original_content)\n",
    "\n",
    "    # get style output from speaker verif model\n",
    "    current_style = style_model(spec.unsqueeze(0))\n",
    "    style_loss = c_loss_fn(current_style, target_style)\n",
    "    print(content_loss, style_loss)\n",
    "    loss = 0.2*content_loss + 0.8*style_loss\n",
    "\n",
    "    # Backpropagate the gradients\n",
    "    loss.backward()\n",
    "\n",
    "    # Update the input spectrogram\n",
    "    optim.step()\n",
    "    if i%10 == 0:\n",
    "        print(f\"Iteration {i + 1}/{num_iterations}: Loss = {loss.item()}\")"
   ]
  },
  {
   "cell_type": "code",
   "execution_count": null,
   "metadata": {},
   "outputs": [],
   "source": [
    "## Decode the spectogram\n",
    "bundle = torchaudio.pipelines.TACOTRON2_WAVERNN_PHONE_LJSPEECH\n",
    "vocoder = bundle.get_vocoder()\n",
    "\n",
    "with torch.inference_mode():\n",
    "    waveforms, lengths = vocoder(spec, spec.shape[1])\n",
    "\n",
    "\n",
    "IPython.display.Audio(waveforms[0:1].cpu(), rate=vocoder.sample_rate)"
   ]
  }
 ],
 "metadata": {
  "kernelspec": {
   "display_name": "venv",
   "language": "python",
   "name": "venv"
  },
  "language_info": {
   "codemirror_mode": {
    "name": "ipython",
    "version": 3
   },
   "file_extension": ".py",
   "mimetype": "text/x-python",
   "name": "python",
   "nbconvert_exporter": "python",
   "pygments_lexer": "ipython3",
   "version": "3.8.16"
  }
 },
 "nbformat": 4,
 "nbformat_minor": 4
}
