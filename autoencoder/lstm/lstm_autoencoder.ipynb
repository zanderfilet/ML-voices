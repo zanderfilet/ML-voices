{
 "cells": [
  {
   "cell_type": "markdown",
   "metadata": {},
   "source": [
    "# LSTM Autoencoders with Encodec"
   ]
  },
  {
   "cell_type": "code",
   "execution_count": 1,
   "metadata": {},
   "outputs": [
    {
     "name": "stderr",
     "output_type": "stream",
     "text": [
      "/home/amosyou/.conda/envs/venv/lib/python3.9/site-packages/tqdm/auto.py:21: TqdmWarning: IProgress not found. Please update jupyter and ipywidgets. See https://ipywidgets.readthedocs.io/en/stable/user_install.html\n",
      "  from .autonotebook import tqdm as notebook_tqdm\n"
     ]
    }
   ],
   "source": [
    "import matplotlib.pyplot as plt\n",
    "import numpy as np\n",
    "import os\n",
    "import IPython\n",
    "import time\n",
    "import random\n",
    "import torch\n",
    "import torchaudio\n",
    "import librosa\n",
    "from torch.utils.data import Dataset, DataLoader, TensorDataset, random_split\n",
    "\n",
    "import sys\n",
    "sys.path.append(\"..\")\n",
    "from dataset_generation.randomDataset import RandomDataset\n",
    "from utils.numpyDataset import NumpyDataset\n",
    "\n",
    "from torch import nn\n",
    "from torch.nn import functional as F"
   ]
  },
  {
   "cell_type": "code",
   "execution_count": 2,
   "metadata": {},
   "outputs": [],
   "source": [
    "# LSTM autoencoder\n",
    "# credit: https://github.com/hellojinwoo/TorchCoder/blob/master/autoencoders/rae.py\n",
    "class Encoder(nn.Module):\n",
    "    def __init__(self, seq_len, no_features, embedding_size):\n",
    "        super().__init__()\n",
    "        \n",
    "        self.seq_len = seq_len\n",
    "        self.no_features = no_features    # The number of expected features(= dimension size) in the input x\n",
    "        self.embedding_size = embedding_size   # the number of features in the embedded points of the inputs' number of features\n",
    "        self.LSTM1 = nn.LSTM(\n",
    "            input_size = no_features,\n",
    "            hidden_size = self.embedding_size,\n",
    "            num_layers = 1,\n",
    "            batch_first=True\n",
    "        )\n",
    "        \n",
    "    def forward(self, x):\n",
    "        # Inputs: input, (h_0, c_0). -> If (h_0, c_0) is not provided, both h_0 and c_0 default to zero.\n",
    "        # Outputs: output, (h_n, c_n)\n",
    "        _, (hidden_state, cell_state) = self.LSTM1(x)  \n",
    "        last_lstm_layer_hidden_state = hidden_state[-1,:,:]\n",
    "        return last_lstm_layer_hidden_state\n",
    "    \n",
    "    \n",
    "# (2) Decoder\n",
    "class Decoder(nn.Module):\n",
    "    def __init__(self, seq_len, embedding_size, output_size):\n",
    "        super().__init__()\n",
    "\n",
    "        self.seq_len = seq_len\n",
    "        self.embedding_size = embedding_size\n",
    "        self.output_size = output_size\n",
    "        self.LSTM1 = nn.LSTM(\n",
    "            input_size = self.embedding_size,\n",
    "            hidden_size = 2 * self.embedding_size,\n",
    "            num_layers = 1,\n",
    "            batch_first = True\n",
    "        )\n",
    "        \n",
    "        self.fc = nn.Linear(2 * self.embedding_size, self.output_size)\n",
    "        \n",
    "    def forward(self, x):\n",
    "        # input is a embedding_dim x 1 vector\n",
    "        x = x.unsqueeze(1).repeat(1, self.seq_len, 1)\n",
    "        x, (hidden_state, cell_state) = self.LSTM1(x)\n",
    "        x = x.reshape((-1, self.seq_len, 2 * self.embedding_size))\n",
    "        out = self.fc(x)\n",
    "        return out\n",
    "    \n",
    "    \n",
    "# (3) Autoencoder : putting the encoder and decoder together\n",
    "class LSTM_AE(nn.Module):\n",
    "    def __init__(self, seq_len, no_features, embedding_dim):\n",
    "        super().__init__()\n",
    "        \n",
    "        self.seq_len = seq_len\n",
    "        self.no_features = no_features\n",
    "        self.embedding_dim = embedding_dim\n",
    "\n",
    "        self.encoder = Encoder(self.seq_len, self.no_features, self.embedding_dim)\n",
    "        self.decoder = Decoder(self.seq_len, self.embedding_dim, self.no_features)\n",
    "    \n",
    "    def forward(self, x):\n",
    "        encoded = self.encoder(x)\n",
    "        decoded = self.decoder(encoded)\n",
    "        return decoded"
   ]
  },
  {
   "cell_type": "code",
   "execution_count": 3,
   "metadata": {},
   "outputs": [],
   "source": [
    "# load data\n",
    "X, y = np.load('../dataset_generation/trainX.npy'), np.load('../dataset_generation/trainY.npy')\n",
    "tensor_X, tensor_y = torch.Tensor(X), torch.Tensor(y)\n",
    "dataset = TensorDataset(tensor_X, tensor_y)"
   ]
  },
  {
   "cell_type": "code",
   "execution_count": 4,
   "metadata": {},
   "outputs": [],
   "source": [
    "dataset = NumpyDataset('../dataset_generation/trainX.npy', '../dataset_generation/trainY.npy')\n",
    "train_data, val_data = random_split(dataset=dataset, lengths=[0.7, 0.3])\n",
    "train_dl, val_dl = DataLoader(train_data, batch_size=64), DataLoader(val_data, batch_size=64)"
   ]
  },
  {
   "cell_type": "code",
   "execution_count": 4,
   "metadata": {},
   "outputs": [
    {
     "name": "stdout",
     "output_type": "stream",
     "text": [
      "[[0.6669922  0.94433594 0.6826172  ... 0.3642578  0.45214844 0.10058594]\n",
      " [0.12890625 0.14355469 0.50390625 ... 0.5283203  0.1953125  0.6308594 ]\n",
      " [0.5917969  0.16503906 0.16503906 ... 0.25683594 0.6113281  0.41601562]\n",
      " ...\n",
      " [0.38085938 0.95703125 0.68066406 ... 0.45996094 0.7763672  0.92871094]\n",
      " [0.90722656 0.8808594  0.24902344 ... 0.6074219  0.41015625 0.41210938]\n",
      " [0.40527344 0.8730469  0.42578125 ... 0.46484375 0.4501953  0.78027344]]\n",
      "4\n",
      "[[0.06054688 0.10351562 0.3984375  ... 0.8144531  0.8828125  0.41992188]\n",
      " [0.4140625  0.89160156 0.53125    ... 0.3544922  0.9199219  0.90625   ]\n",
      " [0.5878906  0.9589844  0.7675781  ... 0.6376953  0.9140625  0.859375  ]\n",
      " ...\n",
      " [0.6464844  0.828125   0.828125   ... 0.765625   0.6777344  0.7783203 ]\n",
      " [0.69628906 0.9355469  0.69628906 ... 0.4658203  0.8847656  0.7578125 ]\n",
      " [0.90625    0.71484375 0.41503906 ... 0.4501953  0.71484375 0.9296875 ]]\n",
      "2\n",
      "[[0.06054688 0.06054688 0.06054688 ... 0.86035156 0.9863281  0.9199219 ]\n",
      " [0.89160156 0.4140625  0.4140625  ... 0.3125     0.50097656 0.9902344 ]\n",
      " [0.7675781  0.7675781  0.7675781  ... 0.67578125 0.22949219 0.5732422 ]\n",
      " ...\n",
      " [0.828125   0.765625   0.765625   ... 0.50097656 0.62109375 0.45898438]\n",
      " [0.68847656 0.82714844 0.68847656 ... 0.28808594 0.38085938 0.42089844]\n",
      " [0.5732422  0.90625    0.90625    ... 0.67578125 0.39257812 0.2626953 ]]\n",
      "0\n"
     ]
    }
   ],
   "source": [
    "for i in range(3):\n",
    "    X_val, y_val = train_data[i]\n",
    "    print(X_val)\n",
    "    print(y_val)"
   ]
  },
  {
   "cell_type": "code",
   "execution_count": 5,
   "metadata": {},
   "outputs": [
    {
     "data": {
      "text/plain": [
       "(16, 375)"
      ]
     },
     "execution_count": 5,
     "metadata": {},
     "output_type": "execute_result"
    }
   ],
   "source": [
    "train_data[0][0].shape"
   ]
  },
  {
   "cell_type": "code",
   "execution_count": 5,
   "metadata": {},
   "outputs": [
    {
     "name": "stdout",
     "output_type": "stream",
     "text": [
      "cuda\n",
      "LSTM_AE(\n",
      "  (encoder): Encoder(\n",
      "    (LSTM1): LSTM(16, 128, batch_first=True)\n",
      "  )\n",
      "  (decoder): Decoder(\n",
      "    (LSTM1): LSTM(128, 256, batch_first=True)\n",
      "    (fc): Linear(in_features=256, out_features=16, bias=True)\n",
      "  )\n",
      ")\n"
     ]
    }
   ],
   "source": [
    "device = 'cuda' if torch.cuda.is_available() else 'cpu'\n",
    "print(device)\n",
    "loss = torch.nn.MSELoss()\n",
    "\n",
    "seq_len = train_data[0][0].shape[1]\n",
    "no_features = train_data[0][0].shape[0]\n",
    "model = LSTM_AE(seq_len=seq_len, no_features=no_features, embedding_dim=128)\n",
    "\n",
    "model = model.to(device)\n",
    "print(model)\n",
    "\n",
    "optimizer = torch.optim.Adam(model.parameters(), lr=0.001)"
   ]
  },
  {
   "cell_type": "code",
   "execution_count": 7,
   "metadata": {},
   "outputs": [],
   "source": [
    "def train_epoch(model, train_data_loader, val_data_loader, loss_fn, opt, device, metrics):\n",
    "\n",
    "    model.train()\n",
    "    losses = []\n",
    "    accuracies = []\n",
    "    for input, target in train_data_loader:\n",
    "        # disregard labels for autoencoder reconstruction loss\n",
    "\n",
    "        batch_size = input.shape[0]\n",
    "        n_dim = input.shape[1]\n",
    "        length = input.shape[2]\n",
    "\n",
    "        # input dimensions for LSTMs: (batch_size, length, n_dim)\n",
    "        input = torch.reshape(input, (batch_size, length, n_dim))\n",
    "        input = (input - input.mean()) / input.std()\n",
    "        input = input.to(device)\n",
    "\n",
    "        # calculate loss\n",
    "        prediction = model(input)\n",
    "        loss = loss_fn(prediction, input)\n",
    "        accuracies.append((prediction == input).float().mean())\n",
    "        losses.append(loss.item())\n",
    "\n",
    "        # backpropagate error and update weights\n",
    "        opt.zero_grad()\n",
    "        loss.backward()\n",
    "        # torch.nn.utils.clip_grad_norm_(model.parameters(), max_norm=0.1)\n",
    "        opt.step()\n",
    "    \n",
    "    metrics['t_acc'].append((sum(accuracies)/len(accuracies)).cpu())\n",
    "    metrics['t_loss'].append((sum(losses)/len(losses)))\n",
    "    \n",
    "    model.eval()\n",
    "    losses = []\n",
    "    accuracies = []\n",
    "    for input, target in val_data_loader:\n",
    "        batch_size = input.shape[0]\n",
    "        n_dim = input.shape[1]\n",
    "        length = input.shape[2]\n",
    "\n",
    "        input = torch.reshape(input, (batch_size, length, n_dim))\n",
    "        input, target = input.to(device), target.to(device)\n",
    "        prediction = model(input)\n",
    "\n",
    "        loss = loss_fn(prediction, input)\n",
    "        accuracies.append((prediction == input).float().mean())\n",
    "        losses.append(loss.item())\n",
    "    \n",
    "    metrics['v_acc'].append((sum(accuracies)/len(accuracies)).cpu())\n",
    "    metrics['v_loss'].append((sum(losses)/len(losses)))"
   ]
  },
  {
   "cell_type": "code",
   "execution_count": 8,
   "metadata": {},
   "outputs": [
    {
     "name": "stdout",
     "output_type": "stream",
     "text": [
      "****** STARTING TRAINING ******\n",
      "Finished epoch: 0; Training loss: 0.994947853153699; Validation loss: 0.4205393267016039\n",
      "Finished epoch: 1; Training loss: 0.9772511723379022; Validation loss: 0.277029498566127\n",
      "Finished epoch: 2; Training loss: 0.9746657502887093; Validation loss: 0.2857056973462409\n",
      "Finished epoch: 3; Training loss: 0.9732719461123148; Validation loss: 0.26283163540329496\n",
      "Finished epoch: 4; Training loss: 0.9706160427047056; Validation loss: 0.21382714464520733\n",
      "Finished epoch: 5; Training loss: 0.9698717695755864; Validation loss: 0.19889017189225405\n",
      "Finished epoch: 6; Training loss: 0.969442951987686; Validation loss: 0.19423055421587423\n",
      "Finished epoch: 7; Training loss: 0.9690790730705726; Validation loss: 0.177777517507685\n",
      "Finished epoch: 8; Training loss: 0.9688244130876329; Validation loss: 0.18370019618078326\n",
      "Finished epoch: 9; Training loss: 0.9685631202961937; Validation loss: 0.1791128376696972\n",
      "Finished epoch: 10; Training loss: 0.9686410195751277; Validation loss: 0.19361959360804118\n",
      "Finished epoch: 11; Training loss: 0.9683943771880511; Validation loss: 0.19851904948975177\n",
      "Finished epoch: 12; Training loss: 0.967637053907734; Validation loss: 0.1690784050746167\n",
      "Finished epoch: 13; Training loss: 0.9665132416256305; Validation loss: 0.15746430978707388\n",
      "Finished epoch: 14; Training loss: 0.9657475355008965; Validation loss: 0.15467115005491472\n",
      "Finished epoch: 15; Training loss: 0.9651470814847147; Validation loss: 0.1445921964362158\n",
      "Finished epoch: 16; Training loss: 0.9634242661104536; Validation loss: 0.1468175213704718\n",
      "Finished epoch: 17; Training loss: 0.9653117884421094; Validation loss: 0.14492855258021795\n",
      "Finished epoch: 18; Training loss: 0.9652617339674197; Validation loss: 0.30779928095797277\n",
      "Finished epoch: 19; Training loss: 0.971753646158918; Validation loss: 0.22748739975141297\n",
      "Finished epoch: 20; Training loss: 0.9685077894949659; Validation loss: 0.21138493589898374\n",
      "Finished epoch: 21; Training loss: 0.9659892335148526; Validation loss: 0.19334427605495386\n",
      "Finished epoch: 22; Training loss: 0.965481475698712; Validation loss: 0.29840582461221843\n",
      "Finished epoch: 23; Training loss: 0.9683118823637883; Validation loss: 0.1795397641282555\n",
      "Finished epoch: 24; Training loss: 0.9659809597188116; Validation loss: 0.19291280463654945\n",
      "Finished epoch: 25; Training loss: 0.9664745204706352; Validation loss: 0.21043436979571134\n",
      "Finished epoch: 26; Training loss: 0.9672964364970655; Validation loss: 0.18162611443945703\n",
      "Finished epoch: 27; Training loss: 0.9633928692504151; Validation loss: 0.18018858758270317\n",
      "Finished epoch: 28; Training loss: 0.9653564731461454; Validation loss: 0.197529396002597\n",
      "Finished epoch: 29; Training loss: 0.9661613428792272; Validation loss: 0.19793032088600998\n",
      "Finished epoch: 30; Training loss: 0.9653233904816788; Validation loss: 0.1611880420158941\n",
      "Finished epoch: 31; Training loss: 0.9665206137313146; Validation loss: 0.15135794994256174\n",
      "Finished epoch: 32; Training loss: 0.9650033806738425; Validation loss: 0.12965323300437726\n",
      "Finished epoch: 33; Training loss: 0.9644272607755443; Validation loss: 0.17516231341353544\n",
      "Finished epoch: 34; Training loss: 0.9663364953464932; Validation loss: 0.2861966498143284\n",
      "Finished epoch: 35; Training loss: 0.9637797159147045; Validation loss: 0.16256240047250234\n",
      "Finished epoch: 36; Training loss: 0.9613996784980983; Validation loss: 0.14945103777638563\n",
      "Finished epoch: 37; Training loss: 0.9719370329579625; Validation loss: 0.26311453003832636\n",
      "Finished epoch: 38; Training loss: 0.9709303446193446; Validation loss: 0.19070856775163758\n",
      "Finished epoch: 39; Training loss: 0.9692378759928489; Validation loss: 0.1495123600177731\n",
      "Finished epoch: 40; Training loss: 0.967534027324601; Validation loss: 0.14768055261026883\n",
      "Finished epoch: 41; Training loss: 0.9650617198312663; Validation loss: 0.15345837313232694\n",
      "Finished epoch: 42; Training loss: 0.9634878040267271; Validation loss: 0.14011043817438978\n",
      "Finished epoch: 43; Training loss: 0.9625808383413282; Validation loss: 0.15302763646798775\n",
      "Finished epoch: 44; Training loss: 0.9645582432979136; Validation loss: 0.16085962047602267\n",
      "Finished epoch: 45; Training loss: 0.9643070425617096; Validation loss: 0.19148558610719993\n",
      "Finished epoch: 46; Training loss: 0.9649864867941974; Validation loss: 0.1872521607694051\n",
      "Finished epoch: 47; Training loss: 0.9626019503609412; Validation loss: 0.1595969595384936\n",
      "Finished epoch: 48; Training loss: 0.9648818968819338; Validation loss: 0.16898630311091742\n",
      "Finished epoch: 49; Training loss: 0.9645146390074464; Validation loss: 0.12540547092649953\n",
      "Finished epoch: 50; Training loss: 0.9618922624413826; Validation loss: 0.14113160893849447\n",
      "Finished epoch: 51; Training loss: 0.9660541756330923; Validation loss: 0.16457565873861313\n",
      "Finished epoch: 52; Training loss: 0.9624326856894762; Validation loss: 0.1627387969312093\n",
      "Finished epoch: 53; Training loss: 0.9646761960816347; Validation loss: 0.19542119334986868\n",
      "Finished epoch: 54; Training loss: 0.9641954080517796; Validation loss: 0.13299739429502622\n",
      "Finished epoch: 55; Training loss: 0.9606791247515918; Validation loss: 0.12669044157080617\n",
      "Finished epoch: 56; Training loss: 0.9589045866983666; Validation loss: 0.13473745546442398\n",
      "Finished epoch: 57; Training loss: 0.9585895502041101; Validation loss: 0.1455980266133944\n",
      "Finished epoch: 58; Training loss: 0.9613366484460584; Validation loss: 0.17387704239458057\n",
      "Finished epoch: 59; Training loss: 0.9659885472902968; Validation loss: 0.1506384846272198\n",
      "Finished epoch: 60; Training loss: 0.9636829364789675; Validation loss: 0.11900709011981674\n",
      "Finished epoch: 61; Training loss: 0.9595233197444468; Validation loss: 0.129524383614672\n",
      "Finished epoch: 62; Training loss: 0.9622862642032733; Validation loss: 0.19562190543886618\n",
      "Finished epoch: 63; Training loss: 0.9653953823687642; Validation loss: 0.14633787175019583\n",
      "Finished epoch: 64; Training loss: 0.9629720901245395; Validation loss: 0.14245153815611034\n",
      "Finished epoch: 65; Training loss: 0.961955332774187; Validation loss: 0.1458978644499542\n",
      "Finished epoch: 66; Training loss: 0.9624313720285076; Validation loss: 0.14942892619692688\n",
      "Finished epoch: 67; Training loss: 0.9652974053060628; Validation loss: 0.17681520035926332\n",
      "Finished epoch: 68; Training loss: 0.9620074783104559; Validation loss: 0.14219509979300465\n",
      "Finished epoch: 69; Training loss: 0.9617357132460247; Validation loss: 0.15318096561212066\n",
      "Finished epoch: 70; Training loss: 0.9647667806261024; Validation loss: 0.14146452587335667\n",
      "Finished epoch: 71; Training loss: 0.9622810065655585; Validation loss: 0.15863851468402443\n",
      "Finished epoch: 72; Training loss: 0.9624370289356923; Validation loss: 0.17037290429815333\n",
      "Finished epoch: 73; Training loss: 0.9604763570985838; Validation loss: 0.14673750482975167\n",
      "Finished epoch: 74; Training loss: 0.9626204972942126; Validation loss: 0.1342822736565103\n",
      "Finished epoch: 75; Training loss: 0.9617740085498746; Validation loss: 0.20507486127581157\n",
      "Finished epoch: 76; Training loss: 0.9627972236144126; Validation loss: 0.14098463751745563\n",
      "Finished epoch: 77; Training loss: 0.9630642360929667; Validation loss: 0.1431999123054193\n",
      "Finished epoch: 78; Training loss: 0.9614100709353408; Validation loss: 0.1314410741130511\n",
      "Finished epoch: 79; Training loss: 0.9601102502197254; Validation loss: 0.11158539655994862\n",
      "Finished epoch: 80; Training loss: 0.9587279371293531; Validation loss: 0.10893266373280938\n",
      "Finished epoch: 81; Training loss: 0.9564122992200575; Validation loss: 0.12542530038255326\n",
      "Finished epoch: 82; Training loss: 0.9544252747814405; Validation loss: 0.1442875587348397\n",
      "Finished epoch: 83; Training loss: 0.9532785159812126; Validation loss: 0.13372916009620572\n",
      "Finished epoch: 84; Training loss: 0.9521216221233119; Validation loss: 0.12856564958784597\n",
      "Finished epoch: 85; Training loss: 0.9518724249922521; Validation loss: 0.1315430609364036\n",
      "Finished epoch: 86; Training loss: 0.9513618058809951; Validation loss: 0.13823273825518628\n",
      "Finished epoch: 87; Training loss: 0.9514370534336549; Validation loss: 0.11368985445047101\n",
      "Finished epoch: 88; Training loss: 0.9507694293374884; Validation loss: 0.12713726665428343\n",
      "Finished epoch: 89; Training loss: 0.9501235828914961; Validation loss: 0.12190399139274097\n",
      "Finished epoch: 90; Training loss: 0.9502338519379429; Validation loss: 0.13426925294788172\n",
      "Finished epoch: 91; Training loss: 0.9597169466577526; Validation loss: 0.16260221949283113\n",
      "Finished epoch: 92; Training loss: 0.9591207914337901; Validation loss: 0.14483144953318522\n",
      "Finished epoch: 93; Training loss: 0.9553470257754739; Validation loss: 0.1265260618682026\n",
      "Finished epoch: 94; Training loss: 0.9531001621911152; Validation loss: 0.13002696532941033\n",
      "Finished epoch: 95; Training loss: 0.9515268839839024; Validation loss: 0.1356223060201246\n",
      "Finished epoch: 96; Training loss: 0.9507690476681725; Validation loss: 0.13205511371294656\n",
      "Finished epoch: 97; Training loss: 0.9501524144837482; Validation loss: 0.1268748604553811\n",
      "Finished epoch: 98; Training loss: 0.9495576590163523; Validation loss: 0.12547012328678833\n",
      "Finished epoch: 99; Training loss: 0.9492717664717176; Validation loss: 0.121869101724092\n",
      "Fininshed training\n",
      "best validation accuracy tensor(8.3112e-08)\n"
     ]
    },
    {
     "data": {
      "image/png": "[encoded data removed]",
      "text/plain": [
       "<Figure size 640x480 with 1 Axes>"
      ]
     },
     "metadata": {},
     "output_type": "display_data"
    },
    {
     "data": {
      "text/plain": [
       "Text(0.5, 1.0, 'accuracy')"
      ]
     },
     "execution_count": 8,
     "metadata": {},
     "output_type": "execute_result"
    },
    {
     "data": {
      "image/png": "[encoded data removed]",
      "text/plain": [
       "<Figure size 640x480 with 1 Axes>"
      ]
     },
     "metadata": {},
     "output_type": "display_data"
    }
   ],
   "source": [
    "metrics = {\n",
    "    't_loss': [],\n",
    "    'v_loss': [],\n",
    "    't_acc': [],\n",
    "    'v_acc': []\n",
    "}\n",
    "print('****** STARTING TRAINING ******')\n",
    "for epoch in range(100):\n",
    "    train_epoch(model, train_dl, val_dl, loss_fn=loss, opt=optimizer, device=device, metrics=metrics)\n",
    "    print(f\"Finished epoch: {epoch}; Training loss: {metrics['t_loss'][-1]}; Validation loss: {metrics['v_loss'][-1]}\")\n",
    "\n",
    "print(\"Fininshed training\")    \n",
    "print('best validation accuracy', max(metrics['v_acc']).data)\n",
    "\n",
    "plt.plot(metrics['t_loss'])\n",
    "plt.plot(metrics['v_loss'])\n",
    "plt.legend(['training', 'validation'])\n",
    "plt.title('cross entropy loss')\n",
    "plt.show()\n",
    "\n",
    "plt.figure(1)\n",
    "plt.plot(metrics['t_acc'])\n",
    "plt.plot(metrics['v_acc'])\n",
    "plt.legend(['training', 'validation'])\n",
    "plt.title('accuracy')"
   ]
  },
  {
   "cell_type": "code",
   "execution_count": 9,
   "metadata": {},
   "outputs": [],
   "source": [
    "torch.save(model, 'lstm_autoencoder')"
   ]
  },
  {
   "attachments": {},
   "cell_type": "markdown",
   "metadata": {},
   "source": [
    "## Reconstructing Audio Example"
   ]
  },
  {
   "cell_type": "code",
   "execution_count": 6,
   "metadata": {},
   "outputs": [
    {
     "data": {
      "text/plain": [
       "LSTM_AE(\n",
       "  (encoder): Encoder(\n",
       "    (LSTM1): LSTM(16, 128, batch_first=True)\n",
       "  )\n",
       "  (decoder): Decoder(\n",
       "    (LSTM1): LSTM(128, 256, batch_first=True)\n",
       "    (fc): Linear(in_features=256, out_features=16, bias=True)\n",
       "  )\n",
       ")"
      ]
     },
     "execution_count": 6,
     "metadata": {},
     "output_type": "execute_result"
    }
   ],
   "source": [
    "model = torch.load('lstm_autoencoder')\n",
    "model = model.to(device)\n",
    "model"
   ]
  },
  {
   "cell_type": "code",
   "execution_count": 7,
   "metadata": {},
   "outputs": [
    {
     "name": "stdout",
     "output_type": "stream",
     "text": [
      "Parameter containing:\n",
      "tensor([[ 0.1427, -0.0925,  0.1123,  ...,  0.1020,  0.1778, -0.0028],\n",
      "        [ 0.0063,  0.1596,  0.2062,  ...,  0.2037,  0.0263,  0.1418],\n",
      "        [-0.1881, -0.1286, -0.1440,  ..., -0.0457, -0.0747, -0.0494],\n",
      "        ...,\n",
      "        [-0.0179, -0.0835, -0.1272,  ..., -0.0687, -0.1251,  0.1041],\n",
      "        [ 0.2235,  0.1466,  0.1613,  ...,  0.0651,  0.1491,  0.2034],\n",
      "        [ 0.1174,  0.0832,  0.0678,  ...,  0.0852,  0.1024,  0.1312]],\n",
      "       device='cuda:0', requires_grad=True)\n",
      "Parameter containing:\n",
      "tensor([[ 0.5350, -0.0111,  0.1049,  ..., -0.2445,  0.2118, -0.1669],\n",
      "        [-0.2763, -0.2153,  0.1368,  ..., -0.1345, -0.0235, -0.2573],\n",
      "        [ 0.1154,  0.1742,  0.2340,  ..., -0.0764,  0.3337, -0.1240],\n",
      "        ...,\n",
      "        [-0.1878,  0.2288,  0.0978,  ..., -0.0761,  0.0494,  0.0818],\n",
      "        [ 0.1472,  0.0528, -0.1655,  ...,  0.1875,  0.0955, -0.0199],\n",
      "        [-0.1011,  0.0283,  0.0191,  ..., -0.0210, -0.1212,  0.2484]],\n",
      "       device='cuda:0', requires_grad=True)\n",
      "Parameter containing:\n",
      "tensor([-3.3331e-01,  6.0929e-02, -4.1649e-01, -1.1529e-01, -2.7676e-01,\n",
      "         9.7438e-02, -1.3864e-01, -3.7117e-01, -2.9775e-01, -2.6563e-01,\n",
      "        -2.1764e-01, -2.6594e-01, -1.5275e-01,  1.5223e-01, -1.4035e-01,\n",
      "        -2.5826e-01, -1.9042e-01, -7.2109e-02, -5.9032e-02, -2.7295e-01,\n",
      "        -4.4258e-01,  7.9196e-02, -1.7152e-02, -5.8451e-02, -6.4772e-02,\n",
      "        -5.2061e-01,  3.2226e-02, -1.4932e-01, -4.5429e-01, -2.4360e-01,\n",
      "        -1.8359e-01, -3.5993e-01, -3.7753e-01, -1.1516e-01, -2.9373e-01,\n",
      "        -2.3601e-01, -8.9877e-02, -3.2949e-01, -1.3457e-02, -1.9139e-01,\n",
      "        -2.4772e-01,  7.2938e-02, -3.6143e-01,  3.5996e-02, -1.9662e-01,\n",
      "        -1.3669e-01, -2.7399e-01,  7.5905e-02, -5.1671e-01,  5.6522e-02,\n",
      "        -2.2025e-01, -9.2041e-02, -2.5667e-01, -9.7196e-02,  7.1433e-02,\n",
      "        -1.1517e-01, -9.1784e-02, -2.0137e-01, -2.6935e-01, -2.4035e-01,\n",
      "         6.1756e-02, -1.3025e-01,  5.0688e-02, -2.1797e-01, -4.8261e-01,\n",
      "        -2.3042e-01, -1.1236e-01, -1.2136e-01, -3.2806e-01,  1.0686e-01,\n",
      "        -2.2790e-01, -1.5890e-01, -2.8737e-01, -1.6011e-01, -4.2593e-01,\n",
      "        -2.9341e-01, -2.1835e-01, -1.8075e-01,  6.8026e-02, -1.3727e-01,\n",
      "        -1.3649e-01, -2.0319e-02, -2.5836e-01, -3.0054e-01,  7.5445e-02,\n",
      "        -1.0898e-01,  1.3204e-01, -2.0410e-01, -5.4974e-02,  1.3548e-01,\n",
      "        -8.7365e-02,  3.7491e-02, -1.8918e-01, -3.4192e-01, -2.0848e-01,\n",
      "        -3.0890e-01, -4.1153e-01, -2.0781e-01, -2.4480e-01, -1.8421e-01,\n",
      "         1.3423e-01, -1.2795e-01, -1.3812e-01, -1.2047e-01, -2.5545e-01,\n",
      "        -1.8892e-01, -3.7902e-01, -2.8624e-01, -9.5907e-02, -1.6988e-01,\n",
      "        -5.1965e-01, -1.6422e-01, -1.8735e-01, -3.5146e-01, -2.5108e-01,\n",
      "        -2.6502e-01, -2.5761e-01, -3.2286e-01,  7.5077e-02, -1.1220e-01,\n",
      "        -3.1576e-01,  1.5534e-02,  4.2522e-01, -1.8940e-01, -1.3178e-01,\n",
      "        -3.4722e-01, -9.9849e-02, -2.4096e-01,  6.2576e-02,  4.3187e-02,\n",
      "        -1.7764e-02,  1.5542e-01,  7.5848e-02,  1.2378e-01,  5.8158e-03,\n",
      "         2.0230e-01,  7.7279e-02,  2.5357e-01, -1.3335e-01, -2.3773e-02,\n",
      "         1.0345e-01,  1.0350e-01,  1.1484e-01,  5.5490e-02,  2.9811e-02,\n",
      "         1.0418e-01, -5.7077e-02, -4.4008e-02, -1.0162e-01,  2.8571e-01,\n",
      "         1.6111e-01, -8.1474e-02,  8.0201e-02,  3.1553e-01,  3.9135e-02,\n",
      "         7.9389e-03, -2.5008e-02,  4.5316e-02,  2.9994e-01, -2.7628e-02,\n",
      "         2.4217e-01,  1.1970e-01,  2.1283e-01, -8.6595e-02,  1.3386e-01,\n",
      "         6.6351e-02,  4.9374e-02,  8.3965e-03,  1.9688e-01,  2.3467e-01,\n",
      "         1.2773e-01,  1.4598e-01,  6.0618e-02,  2.7713e-01,  2.2813e-01,\n",
      "         4.6104e-02,  4.5392e-01,  1.9013e-01,  6.3302e-03,  1.2172e-01,\n",
      "         2.9960e-01,  1.2984e-02,  3.4007e-01,  2.5041e-01, -1.5282e-01,\n",
      "         1.3410e-01,  2.0383e-01, -9.2369e-02,  9.9904e-03,  1.8537e-01,\n",
      "         2.6085e-02,  6.8900e-02, -1.2954e-01, -8.2909e-02,  2.3134e-01,\n",
      "         3.0588e-02,  7.5437e-02,  1.7697e-01,  1.5966e-03, -6.3987e-02,\n",
      "         1.9871e-01,  1.5740e-01,  3.0649e-01, -4.4665e-02,  1.1227e-01,\n",
      "         1.6930e-01,  2.0340e-02, -5.7957e-02,  8.3540e-02,  2.3784e-01,\n",
      "         2.2595e-02, -2.6926e-01,  3.5366e-01,  1.1015e-01,  5.7654e-03,\n",
      "         1.0228e-01,  1.1237e-02, -1.7244e-02,  8.8680e-02,  2.0827e-01,\n",
      "         2.2691e-01,  6.9210e-03, -1.5463e-01, -2.0336e-01, -1.2840e-01,\n",
      "         5.1765e-02,  3.0496e-01, -2.3477e-02,  1.1041e-01,  1.1950e-01,\n",
      "         1.3046e-01,  5.3763e-02, -7.6079e-02, -1.2960e-02,  3.1264e-02,\n",
      "         3.0854e-01,  1.4804e-01, -6.3034e-05, -1.5785e-01,  4.2835e-02,\n",
      "         2.2880e-01, -1.4584e-02,  9.1026e-05, -5.2929e-02,  1.1657e-02,\n",
      "         1.3813e-01,  9.6075e-02,  9.7968e-02, -8.8687e-02, -1.3788e-01,\n",
      "         3.5369e-01,  8.2290e-02,  2.5381e-01, -5.1208e-02, -7.7164e-02,\n",
      "         1.7174e-02, -3.8826e-02, -1.0614e-01,  8.8520e-02,  3.8649e-02,\n",
      "        -1.6365e-01, -4.1004e-02, -3.3527e-02,  1.4364e-02, -2.6720e-01,\n",
      "        -1.2964e-01,  4.1320e-01, -6.1778e-02, -2.4777e-03,  1.0517e+00,\n",
      "         3.4903e-01,  3.1669e-01, -3.5511e-01,  6.2672e-01, -2.4492e-01,\n",
      "         2.9626e-01, -3.4851e-02, -1.4111e-01,  6.1206e-02, -4.4086e-01,\n",
      "         2.1134e-01,  3.8115e-02, -3.8153e-01,  5.3884e-01, -3.9217e-02,\n",
      "         2.7345e-02,  2.2484e-01, -1.5604e-01, -1.3381e-01, -2.6868e-01,\n",
      "         2.5206e-01,  8.9565e-02, -8.2666e-02, -1.8007e-02,  6.0695e-01,\n",
      "         2.1471e-02,  2.0086e-01,  9.2090e-02, -1.9560e-01,  1.9803e-01,\n",
      "        -9.1964e-02, -1.7424e-01, -5.0953e-02,  5.0086e-01,  9.3044e-02,\n",
      "        -3.0101e-01,  3.7572e-01, -2.9389e-01,  8.4121e-02,  6.9171e-01,\n",
      "         4.7035e-01, -1.9806e-01,  3.5636e-02, -4.9230e-02,  2.0327e-02,\n",
      "        -1.4796e-01,  4.8224e-01, -1.7535e-01,  2.0114e-01, -1.6394e-01,\n",
      "         1.9911e-01, -2.3317e-03,  3.5492e-01,  3.3354e-01,  1.2161e-01,\n",
      "         3.1671e-01, -2.0763e-01,  7.4693e-02,  2.2979e-01, -3.8289e-01,\n",
      "         1.6749e-01, -1.4902e-01, -9.3062e-02, -3.4743e-02,  6.2257e-03,\n",
      "         3.8531e-03,  9.0982e-02, -1.2998e-01,  1.1035e-01, -1.4866e-01,\n",
      "        -1.1833e-01,  2.1249e-01, -1.1858e-02, -2.8946e-02,  5.6024e-03,\n",
      "         4.3703e-01, -1.4313e-02, -5.4841e-01, -3.2515e-01,  1.5040e-01,\n",
      "         7.9994e-02,  1.7519e-01, -1.6149e-01, -1.8218e-01,  9.3284e-02,\n",
      "        -1.0451e-01, -2.2495e-01, -2.1731e-01, -2.3866e-02,  1.6995e-02,\n",
      "        -3.9959e-01, -1.4031e-01,  9.1386e-02, -7.1857e-02,  3.0479e-02,\n",
      "         1.5276e-01,  1.7163e-02,  7.7116e-02, -5.1512e-02,  2.7616e-01,\n",
      "        -3.3826e-02,  3.7756e-02,  1.6648e-01,  4.2985e-01,  3.4006e-01,\n",
      "         3.1572e-01,  3.2196e-01, -3.4529e-01, -4.8020e-01, -2.2251e-01,\n",
      "         6.2568e-02,  4.1754e-02, -4.5486e-02, -3.3016e-03, -5.5713e-02,\n",
      "        -2.6388e-01,  2.7655e-02, -2.2576e-01,  5.7067e-02,  8.4927e-02,\n",
      "        -8.1507e-02,  4.0733e-01, -2.6655e-01, -1.9849e-01, -1.8756e-01,\n",
      "         3.2608e-02,  1.6026e-02,  5.3199e-02, -1.9421e-01, -1.1488e-01,\n",
      "        -5.8770e-02,  2.1183e-01, -1.1820e-01,  1.1209e-01, -9.3416e-02,\n",
      "        -1.6429e-01,  1.5681e-01, -7.4580e-02, -3.0214e-01,  4.5903e-01,\n",
      "         2.7807e-02, -2.9367e-01, -5.8838e-02, -1.8759e-01, -2.1826e-01,\n",
      "        -2.1710e-01,  2.7475e-01, -2.6817e-01,  1.5203e-01,  1.4380e-02,\n",
      "         3.8049e-01,  7.4054e-02,  1.4871e-02, -1.0345e-01,  6.3367e-02,\n",
      "         2.2023e-01, -2.5279e-02, -3.1819e-01,  1.1209e-01,  9.6378e-02,\n",
      "        -2.2619e-01, -5.4600e-02,  1.2817e-01, -1.4332e-01,  1.7868e-03,\n",
      "         1.3586e-01, -1.4046e-01, -1.1745e-01, -1.4999e-01, -2.0167e-01,\n",
      "        -4.5445e-02,  1.0841e-02, -1.1669e-01, -2.5235e-01,  1.5088e-01,\n",
      "        -2.6554e-01, -3.7399e-01, -1.3724e-01, -2.2483e-01,  6.9468e-02,\n",
      "         1.8751e-01,  4.6221e-01,  1.4417e-01, -9.9930e-02,  9.1158e-02,\n",
      "        -2.2174e-02,  9.5977e-02, -6.7896e-03,  3.2733e-01, -1.0211e-01,\n",
      "        -1.6026e-01,  1.7518e-01,  9.4591e-02, -6.5932e-03, -2.2115e-01,\n",
      "         1.2524e-01,  1.5641e-02, -4.3015e-01, -1.3777e-01, -1.3409e-01,\n",
      "        -1.5117e-02, -2.7076e-02, -1.4987e-01,  1.3838e-01,  1.4542e-01,\n",
      "        -4.6159e-02, -6.2290e-02,  2.3012e-02, -2.8931e-01, -1.0079e-01,\n",
      "        -1.9963e-01,  4.4918e-02, -7.1500e-02, -2.5637e-02, -8.9763e-02,\n",
      "        -1.8926e-01, -1.6069e-01, -6.0157e-02,  8.1607e-02,  2.0457e-01,\n",
      "        -8.9076e-02,  4.3830e-01, -2.1525e-01,  6.1332e-02, -4.2988e-01,\n",
      "        -1.2397e-01, -3.2586e-01,  1.5285e-01,  6.5315e-02, -8.0293e-02,\n",
      "        -2.3750e-02,  3.6951e-01, -3.3157e-01, -3.8090e-02,  1.1193e-01,\n",
      "         1.1114e-01, -1.7747e-01, -2.6330e-01, -2.2685e-01,  1.7363e-01,\n",
      "        -6.9060e-02, -1.0559e-01], device='cuda:0', requires_grad=True)\n",
      "Parameter containing:\n",
      "tensor([-4.0538e-01, -6.4508e-02, -3.8614e-01, -7.9747e-02, -1.8379e-01,\n",
      "         1.1399e-01, -1.6565e-01, -4.8878e-01, -2.7181e-01, -2.3583e-01,\n",
      "        -1.7283e-01, -2.5715e-01, -1.6138e-01,  1.7298e-01, -1.3330e-01,\n",
      "        -1.4858e-01, -2.6772e-01, -1.5278e-01, -7.8311e-02, -3.8181e-01,\n",
      "        -4.4725e-01,  2.1111e-01, -4.4737e-02, -1.0415e-01, -1.2834e-01,\n",
      "        -4.8002e-01, -4.6895e-02, -1.0325e-01, -3.4301e-01, -3.4595e-01,\n",
      "        -1.7438e-01, -4.4983e-01, -3.6641e-01, -1.5100e-01, -1.3208e-01,\n",
      "        -1.1908e-01, -9.7903e-02, -2.1259e-01, -4.0997e-02, -1.2247e-01,\n",
      "        -1.4237e-01,  4.5840e-02, -3.5371e-01, -2.1069e-02, -1.9183e-01,\n",
      "        -1.0295e-01, -3.0216e-01,  1.0685e-01, -4.6725e-01,  6.0040e-02,\n",
      "        -2.6977e-01, -9.7839e-02, -1.6941e-01, -7.3703e-02, -2.8827e-03,\n",
      "        -2.5231e-01, -1.1545e-01, -2.2477e-01, -3.7589e-01, -2.6923e-01,\n",
      "         2.4810e-03, -1.6562e-01,  1.2002e-01, -2.7749e-01, -5.1679e-01,\n",
      "        -2.4679e-01, -3.2435e-02,  2.9479e-02, -4.2324e-01,  1.3875e-01,\n",
      "        -1.4531e-01, -1.9870e-01, -3.1208e-01, -3.0602e-01, -5.1635e-01,\n",
      "        -3.5886e-01, -1.1240e-01, -1.3837e-01,  3.6366e-02, -1.2059e-01,\n",
      "        -1.1565e-01,  7.7340e-02, -1.7557e-01, -3.2657e-01,  6.1247e-02,\n",
      "        -1.2290e-01,  1.4452e-01, -4.9907e-02, -1.0884e-01,  3.8524e-02,\n",
      "        -8.6260e-02,  5.9345e-02, -5.3222e-02, -2.2772e-01, -2.3255e-01,\n",
      "        -2.6334e-01, -3.0980e-01, -2.4012e-01, -2.6910e-01, -1.3194e-01,\n",
      "         1.2339e-01, -3.7956e-02, -2.2861e-01, -2.2256e-01, -2.2795e-01,\n",
      "        -2.6327e-01, -2.9495e-01, -3.9200e-01, -3.8853e-02, -7.3064e-02,\n",
      "        -3.8017e-01, -2.4228e-01, -1.8808e-01, -2.6307e-01, -2.3603e-01,\n",
      "        -2.8402e-01, -3.5671e-01, -3.2288e-01,  4.0571e-02, -1.6690e-01,\n",
      "        -3.0882e-01, -1.6508e-02,  3.1835e-01, -1.1125e-01, -1.1174e-01,\n",
      "        -4.0814e-01, -3.9472e-02, -2.0999e-01,  4.9312e-02,  8.8399e-02,\n",
      "        -6.8020e-02,  2.2752e-01,  1.5829e-01,  9.9280e-02, -1.9602e-02,\n",
      "         2.6551e-01,  1.7515e-01,  2.2753e-01, -6.9707e-02, -6.5104e-02,\n",
      "         4.9331e-02, -5.8593e-03,  1.3148e-01,  1.6423e-01, -3.7179e-02,\n",
      "        -2.7284e-02, -1.0336e-01,  5.8764e-03, -9.8619e-02,  3.2659e-01,\n",
      "         2.3910e-01, -1.9051e-01,  6.5819e-02,  3.8067e-01,  2.8332e-02,\n",
      "         2.0100e-03, -6.7977e-02,  3.2509e-02,  3.1406e-01, -1.8074e-01,\n",
      "         3.3284e-01,  1.6833e-01,  2.9886e-01,  7.2179e-02,  1.7408e-04,\n",
      "         6.6740e-02,  9.8222e-02,  3.2675e-02,  1.2914e-01,  1.9763e-01,\n",
      "         1.1796e-01,  2.3260e-01,  7.1386e-02,  2.4813e-01,  1.7098e-01,\n",
      "         1.7373e-01,  3.4493e-01,  2.2084e-01,  2.0028e-02, -2.5894e-02,\n",
      "         3.1066e-01, -1.8391e-02,  3.0440e-01,  2.6244e-01, -5.4238e-02,\n",
      "         2.3060e-01,  2.6022e-01, -3.1359e-02, -3.2450e-02,  1.5210e-01,\n",
      "        -7.9259e-02,  6.3138e-02, -9.5705e-02, -7.1714e-02,  3.1373e-01,\n",
      "         9.2798e-02,  1.3078e-01,  2.6612e-02, -4.4020e-02, -9.3946e-02,\n",
      "         1.2611e-01,  8.5557e-02,  2.6258e-01, -1.1969e-02,  1.3180e-01,\n",
      "         1.2152e-01, -3.7726e-02, -4.1495e-02,  2.0276e-01,  2.4118e-01,\n",
      "         2.9009e-02, -1.8219e-01,  2.3373e-01,  2.1187e-01,  2.5576e-02,\n",
      "         6.5067e-02, -3.5279e-03, -4.2853e-02, -1.7778e-02,  2.9265e-01,\n",
      "         1.3673e-01, -6.4110e-02, -1.3494e-01, -1.7595e-01, -8.1811e-02,\n",
      "         4.9202e-02,  1.5172e-01, -1.0764e-01,  1.2304e-01,  2.3710e-01,\n",
      "         2.1642e-01,  3.2733e-02, -7.0552e-02, -3.0571e-02,  3.3832e-02,\n",
      "         2.8942e-01,  1.7810e-01, -3.6568e-02, -2.2298e-01,  1.8017e-01,\n",
      "         1.7373e-01,  5.1829e-02, -1.9062e-02, -2.3891e-02,  8.9972e-02,\n",
      "        -4.9338e-03,  8.9217e-02,  5.8352e-02, -9.1243e-02, -4.1403e-02,\n",
      "         4.8891e-01,  1.1747e-01,  2.0293e-01, -5.4345e-02,  7.2726e-02,\n",
      "        -8.5684e-02,  3.9965e-02, -1.3719e-01,  2.6612e-02,  1.8762e-01,\n",
      "        -7.1894e-02, -5.3483e-02, -6.9135e-03, -7.2889e-02, -2.4651e-01,\n",
      "        -2.7029e-01,  4.8651e-01,  2.0492e-02, -2.1554e-02,  9.0045e-01,\n",
      "         3.6665e-01,  1.9235e-01, -3.2823e-01,  5.3237e-01, -2.5672e-01,\n",
      "         2.1440e-01, -1.9491e-02, -5.7358e-02,  1.1375e-02, -5.4171e-01,\n",
      "         3.5016e-01, -3.7911e-02, -3.4371e-01,  4.6022e-01, -1.5895e-01,\n",
      "         2.1257e-03,  1.2466e-01, -7.9179e-02, -1.7569e-01, -1.6994e-01,\n",
      "         2.7084e-01,  8.1436e-02,  1.3514e-02, -1.1100e-02,  6.6003e-01,\n",
      "         6.5987e-03,  8.1031e-02,  7.3929e-02, -1.9529e-01,  1.1809e-01,\n",
      "        -1.4976e-01, -2.4832e-01,  1.8933e-03,  4.7041e-01,  4.4741e-02,\n",
      "        -1.5246e-01,  4.1162e-01, -2.8598e-01,  2.0874e-01,  5.9947e-01,\n",
      "         4.9224e-01, -1.3223e-01,  9.9055e-02, -1.2470e-01,  1.3421e-01,\n",
      "        -1.4518e-03,  4.4418e-01, -6.8147e-02,  2.9438e-01, -4.3701e-02,\n",
      "         2.3876e-01, -6.7443e-02,  3.4210e-01,  4.1025e-01,  2.2044e-01,\n",
      "         2.8208e-01, -1.0002e-01,  1.0696e-01,  2.0184e-01, -2.5641e-01,\n",
      "         1.6878e-01, -7.6308e-02, -1.8935e-01,  2.9964e-02,  9.6091e-03,\n",
      "         1.6396e-02,  4.7984e-02, -6.4673e-02,  1.2088e-01, -5.8506e-02,\n",
      "        -1.3145e-01,  2.0929e-01, -1.3494e-02, -1.7483e-02, -3.0567e-03,\n",
      "         3.6072e-01,  5.0053e-02, -6.1361e-01, -2.6105e-01,  8.0277e-02,\n",
      "         1.5606e-01,  1.7197e-01, -2.8167e-01, -1.3964e-01, -3.2553e-02,\n",
      "        -1.7544e-01, -3.2268e-01, -3.0396e-01, -1.7120e-02, -9.5927e-03,\n",
      "        -4.5126e-01, -1.2688e-01,  1.8922e-02, -1.2824e-01,  7.6272e-02,\n",
      "         1.9582e-01,  4.4514e-02,  6.5511e-02, -1.8177e-01,  2.1925e-01,\n",
      "        -1.6711e-02,  9.9295e-02,  4.5832e-02,  4.0934e-01,  2.8880e-01,\n",
      "         2.5903e-01,  2.4350e-01, -2.9843e-01, -4.5381e-01, -2.6664e-01,\n",
      "        -1.4774e-02, -1.3070e-02, -8.8370e-02,  4.3532e-02, -1.2867e-01,\n",
      "        -2.1452e-01, -1.0585e-01, -9.6358e-02,  7.7851e-02,  1.0836e-01,\n",
      "        -8.2843e-02,  3.2644e-01, -3.2964e-01, -2.2422e-01, -1.8806e-01,\n",
      "         6.9797e-02,  9.4191e-02,  1.2404e-01, -9.8998e-02, -1.8637e-01,\n",
      "        -8.7124e-02,  2.4330e-01, -1.6132e-01,  6.7485e-03, -1.0600e-02,\n",
      "        -2.6786e-02,  1.6234e-01, -1.1879e-01, -3.4575e-01,  3.5599e-01,\n",
      "        -1.0211e-01, -2.4573e-01, -8.7923e-02, -1.7863e-01, -1.0670e-01,\n",
      "        -3.7040e-01,  2.7683e-01, -1.5140e-01,  1.2757e-01, -1.2721e-01,\n",
      "         4.8534e-01,  8.0326e-03, -3.9836e-02, -1.1617e-01,  4.5734e-02,\n",
      "         2.8916e-01,  3.6315e-02, -2.7728e-01,  9.3148e-02,  2.9403e-02,\n",
      "        -2.5953e-01, -1.1442e-01,  1.6652e-01,  1.7560e-02, -3.2361e-02,\n",
      "        -1.2204e-02, -1.6036e-01, -1.1402e-01, -1.0556e-01, -1.0228e-01,\n",
      "        -5.4967e-02, -6.4732e-02,  1.1705e-02, -9.8192e-02,  8.2186e-02,\n",
      "        -3.3593e-01, -2.5928e-01, -1.1192e-01, -3.7774e-01,  8.6175e-02,\n",
      "         4.9273e-02,  3.4385e-01,  1.5271e-01, -1.8225e-02,  7.2193e-02,\n",
      "        -6.0967e-02,  4.6450e-02, -2.2251e-02,  3.6926e-01, -1.2065e-01,\n",
      "        -9.9441e-02,  6.2004e-02,  1.2135e-01,  1.1089e-02, -2.0147e-01,\n",
      "         7.3484e-02,  7.3762e-02, -4.1306e-01, -8.5701e-02, -1.8935e-01,\n",
      "         6.1654e-02, -7.7598e-02, -2.9323e-01,  4.8104e-02,  2.5357e-01,\n",
      "        -4.0343e-02,  1.5973e-02, -9.2606e-02, -1.8264e-01, -2.4408e-01,\n",
      "        -1.7458e-01,  6.7806e-02,  5.4105e-03, -1.2106e-01, -1.0354e-01,\n",
      "        -1.5339e-01, -1.4818e-01, -2.3083e-02,  5.1087e-02,  2.3824e-01,\n",
      "        -4.8158e-02,  3.0592e-01, -2.6197e-01, -2.8400e-02, -3.4148e-01,\n",
      "        -1.4703e-01, -3.1060e-01,  4.4296e-02,  7.9458e-02, -6.3642e-02,\n",
      "         6.9649e-02,  2.4574e-01, -2.5918e-01, -1.7016e-02,  5.9434e-02,\n",
      "        -5.4477e-02, -2.1188e-01, -2.5331e-01, -1.5183e-01,  7.3468e-02,\n",
      "        -9.2890e-02, -1.1251e-01], device='cuda:0', requires_grad=True)\n",
      "Parameter containing:\n",
      "tensor([[-0.3524, -0.0218, -0.2393,  ...,  0.1145, -0.1676, -0.4588],\n",
      "        [-0.0866,  0.4737,  0.6530,  ..., -0.5055,  0.5148,  0.0244],\n",
      "        [-0.0348,  0.2003,  0.1076,  ...,  0.1420,  0.0020,  0.1176],\n",
      "        ...,\n",
      "        [ 0.2152,  0.1178, -0.5586,  ..., -0.0889, -0.0465,  0.2659],\n",
      "        [-0.0816,  0.3344, -0.0307,  ...,  0.2257,  0.1887, -0.3822],\n",
      "        [-0.3097, -0.0100, -0.1393,  ..., -0.1515, -0.1533,  0.0618]],\n",
      "       device='cuda:0', requires_grad=True)\n",
      "Parameter containing:\n",
      "tensor([[ 0.0123, -0.5548,  0.3023,  ..., -0.2258,  0.0519,  0.1929],\n",
      "        [ 0.1285, -0.6848, -0.7809,  ...,  0.1036,  0.2678,  0.3396],\n",
      "        [-0.2312, -0.4793,  0.1898,  ..., -0.3102, -0.2325, -0.0994],\n",
      "        ...,\n",
      "        [ 0.2900,  0.1525, -0.2827,  ...,  0.1212,  0.3212,  0.3267],\n",
      "        [-0.3234,  0.0145,  0.1620,  ..., -0.1445, -0.1172,  0.1025],\n",
      "        [-0.0426, -0.1020, -0.1385,  ..., -0.1011,  0.0964, -0.3163]],\n",
      "       device='cuda:0', requires_grad=True)\n",
      "Parameter containing:\n",
      "tensor([ 0.0298, -0.1722, -0.1483,  ..., -0.0588, -0.1435, -0.0859],\n",
      "       device='cuda:0', requires_grad=True)\n",
      "Parameter containing:\n",
      "tensor([-0.0642, -0.1735, -0.1324,  ..., -0.1690, -0.0882, -0.0168],\n",
      "       device='cuda:0', requires_grad=True)\n",
      "Parameter containing:\n",
      "tensor([[ 0.0436,  0.2496, -0.0551,  ..., -0.0058,  0.0754, -0.0254],\n",
      "        [ 0.0680,  0.1863, -0.0790,  ...,  0.0029,  0.1096, -0.0210],\n",
      "        [ 0.0760,  0.1277, -0.0840,  ...,  0.0021,  0.0723, -0.0181],\n",
      "        ...,\n",
      "        [ 0.2284,  0.1653, -0.1906,  ...,  0.0329,  0.1228, -0.0274],\n",
      "        [ 0.2051,  0.1584, -0.1740,  ...,  0.0609,  0.1058, -0.0998],\n",
      "        [ 0.2308,  0.1324, -0.1966,  ...,  0.0537,  0.1149, -0.0213]],\n",
      "       device='cuda:0', requires_grad=True)\n",
      "Parameter containing:\n",
      "tensor([-0.0281, -0.0285, -0.0215, -0.0477, -0.0710, -0.0379, -0.0392, -0.0339,\n",
      "        -0.0552, -0.0253, -0.0675, -0.0737, -0.0530, -0.0658, -0.0585, -0.0740],\n",
      "       device='cuda:0', requires_grad=True)\n"
     ]
    }
   ],
   "source": [
    "for param in model.parameters():\n",
    "    print(param)"
   ]
  },
  {
   "cell_type": "code",
   "execution_count": 30,
   "metadata": {},
   "outputs": [
    {
     "name": "stdout",
     "output_type": "stream",
     "text": [
      "[[0.36132812 0.39453125 0.25097656 ... 0.10058594 0.86621094 0.86621094]\n",
      " [0.50390625 0.140625   0.67089844 ... 0.9511719  0.41210938 0.51660156]\n",
      " [0.16113281 0.25683594 0.734375   ... 0.49609375 0.3564453  0.99121094]\n",
      " ...\n",
      " [0.7363281  0.30273438 0.5732422  ... 0.26464844 0.5185547  0.484375  ]\n",
      " [0.98828125 0.64746094 0.50878906 ... 0.4404297  0.74609375 0.71777344]\n",
      " [0.14941406 0.80859375 0.6513672  ... 0.43066406 0.296875   0.453125  ]]\n",
      "tensor([[[-0.2522,  0.0245,  0.1188,  ...,  0.2080,  0.2314,  0.1882],\n",
      "         [ 0.2987,  0.3357,  0.3946,  ...,  0.6207,  0.6205,  0.5918],\n",
      "         [ 0.4586,  0.4677,  0.5107,  ...,  0.3311,  0.2687,  0.2284],\n",
      "         ...,\n",
      "         [ 0.4997,  0.8304,  0.6374,  ...,  0.4964,  0.6204,  0.8361],\n",
      "         [ 0.6369,  0.8850,  0.5810,  ...,  0.3622,  0.4924,  0.7485],\n",
      "         [ 0.8924,  0.8974,  0.4125,  ...,  0.3870,  0.5201,  0.6952]]],\n",
      "       device='cuda:0', grad_fn=<ViewBackward0>)\n"
     ]
    }
   ],
   "source": [
    "from utils.codec import CodecTransform\n",
    "\n",
    "X_example = dataset[1][0]\n",
    "y_example = dataset[1][1]\n",
    "print(X_example)\n",
    "\n",
    "batch_size = 1\n",
    "n_dim = X_example.shape[0]\n",
    "length = X_example.shape[1]\n",
    "\n",
    "# input dimensions for LSTMs: (batch_size, length, n_dim)\n",
    "X_example = torch.reshape(torch.Tensor(X_example), (batch_size, length, n_dim))\n",
    "X_example = X_example.to(device)\n",
    "\n",
    "X_pred = model(X_example)\n",
    "print(X_pred)"
   ]
  },
  {
   "cell_type": "code",
   "execution_count": 31,
   "metadata": {},
   "outputs": [
    {
     "data": {
      "text/plain": [
       "tensor([[[0.0000, 0.0245, 0.1188,  ..., 0.2080, 0.2314, 0.1882],\n",
       "         [0.2987, 0.3357, 0.3946,  ..., 0.6207, 0.6205, 0.5918],\n",
       "         [0.4586, 0.4677, 0.5107,  ..., 0.3311, 0.2687, 0.2284],\n",
       "         ...,\n",
       "         [0.4997, 0.8304, 0.6374,  ..., 0.4964, 0.6204, 0.8361],\n",
       "         [0.6369, 0.8850, 0.5810,  ..., 0.3622, 0.4924, 0.7485],\n",
       "         [0.8924, 0.8974, 0.4125,  ..., 0.3870, 0.5201, 0.6952]]],\n",
       "       device='cuda:0', grad_fn=<ClampBackward1>)"
      ]
     },
     "execution_count": 31,
     "metadata": {},
     "output_type": "execute_result"
    }
   ],
   "source": [
    "X_clamp = torch.clamp(X_pred, min=0, max=1023/1024)\n",
    "X_clamp"
   ]
  },
  {
   "cell_type": "code",
   "execution_count": 23,
   "metadata": {},
   "outputs": [
    {
     "name": "stdout",
     "output_type": "stream",
     "text": [
      "tensor(0.9990, device='cuda:0', grad_fn=<MaxBackward1>)\n",
      "tensor(0., device='cuda:0', grad_fn=<MinBackward1>)\n"
     ]
    }
   ],
   "source": [
    "print(X_clamp.max())\n",
    "print(X_clamp.min())"
   ]
  },
  {
   "cell_type": "code",
   "execution_count": 14,
   "metadata": {},
   "outputs": [
    {
     "data": {
      "text/plain": [
       "torch.Size([1, 375, 16])"
      ]
     },
     "execution_count": 14,
     "metadata": {},
     "output_type": "execute_result"
    }
   ],
   "source": [
    "X_pred.shape"
   ]
  },
  {
   "cell_type": "code",
   "execution_count": 9,
   "metadata": {},
   "outputs": [],
   "source": [
    "transform = CodecTransform(sample_rate=16000, bandwidth=12)"
   ]
  },
  {
   "cell_type": "code",
   "execution_count": 32,
   "metadata": {},
   "outputs": [],
   "source": [
    "wav = transform.decode(X_clamp.reshape([1, 16, 375]))"
   ]
  },
  {
   "cell_type": "code",
   "execution_count": 25,
   "metadata": {},
   "outputs": [
    {
     "data": {
      "text/plain": [
       "tensor([[ 0.0277,  0.0209,  0.0508,  ..., -0.0615, -0.0423, -0.0258]])"
      ]
     },
     "execution_count": 25,
     "metadata": {},
     "output_type": "execute_result"
    }
   ],
   "source": [
    "wav"
   ]
  },
  {
   "cell_type": "code",
   "execution_count": 33,
   "metadata": {},
   "outputs": [],
   "source": [
    "torchaudio.save('test_2.wav', wav, 24000)"
   ]
  },
  {
   "cell_type": "code",
   "execution_count": null,
   "metadata": {},
   "outputs": [],
   "source": []
  }
 ],
 "metadata": {
  "kernelspec": {
   "display_name": "venv",
   "language": "python",
   "name": "venv"
  },
  "language_info": {
   "codemirror_mode": {
    "name": "ipython",
    "version": 3
   },
   "file_extension": ".py",
   "mimetype": "text/x-python",
   "name": "python",
   "nbconvert_exporter": "python",
   "pygments_lexer": "ipython3",
   "version": "3.9.16"
  }
 },
 "nbformat": 4,
 "nbformat_minor": 4
}
